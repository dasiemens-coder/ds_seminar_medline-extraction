{
 "cells": [
  {
   "cell_type": "code",
   "execution_count": 3,
   "metadata": {},
   "outputs": [
    {
     "data": {
      "text/plain": [
       "' import spacy\\nfrom scispacy.umls_linking import UmlsEntityLinker '"
      ]
     },
     "execution_count": 3,
     "metadata": {},
     "output_type": "execute_result"
    }
   ],
   "source": [
    "import lxml.etree as ET\n",
    "import os\n",
    "import requests\n",
    "import urllib.parse\n",
    "import requests\n",
    "from bs4 import BeautifulSoup\n",
    "\"\"\" import spacy\n",
    "from scispacy.umls_linking import UmlsEntityLinker \"\"\"\n",
    "\n",
    "# Load the disease/chemical model\n",
    "#nlp = spacy.load(\"en_ner_bc5cdr_md\")\n",
    "\n",
    "# Create the linker\n",
    "#linker = UmlsEntityLinker(resolve_abbreviations=True, max_entities_per_mention=5)\n",
    "\n",
    "# Add the linker to the pipeline\n",
    "#nlp.add_pipe(linker)"
   ]
  },
  {
   "cell_type": "code",
   "execution_count": null,
   "metadata": {},
   "outputs": [
    {
     "ename": "",
     "evalue": "",
     "output_type": "error",
     "traceback": [
      "\u001b[1;31mnotebook controller is DISPOSED. \n",
      "\u001b[1;31mView Jupyter <a href='command:jupyter.viewOutput'>log</a> for further details."
     ]
    }
   ],
   "source": [
    "# Paths to local XML and DTD files\n",
    "DTD_FILE = \"input/mplus_topics_2012-06-01.dtd\"\n",
    "XML_FILE = \"input/mplus_topics_2025-03-04.xml\"  \n",
    "def filter_sites_by_title(site_title):\n",
    "    \"\"\"\n",
    "    Parses the given MedlinePlus health topics XML file,\n",
    "    and returns all <site> elements (as dicts) that match:\n",
    "      1) <site title=site_title> (exact attribute match)\n",
    "      2) Contain <information-category>Patient Handouts</information-category>\n",
    "         AND <information-category>Encyclopedia</information-category>\n",
    "      3) <organization>Medical Encyclopedia</organization>\n",
    "\n",
    "    The results are sorted alphabetically by <site> title.\n",
    "    \"\"\"\n",
    "    tree = ET.parse(XML_FILE)\n",
    "    root = tree.getroot()  # <health-topics> is the root\n",
    "\n",
    "    all_matching_sites = []\n",
    "\n",
    "    # Iterate over all <health-topic> elements\n",
    "    for health_topic in root.findall(\"health-topic\"):\n",
    "        # Each <health-topic> may have multiple <site> children\n",
    "        for site_elem in health_topic.findall(\"site\"):\n",
    "            # Check if this <site> has the exact title attribute\n",
    "            current_site_title = site_elem.get(\"title\", \"\").strip()\n",
    "            if current_site_title != site_title:\n",
    "                continue  # Skip if the title doesn't match\n",
    "\n",
    "            # Gather <information-category> texts\n",
    "            info_categories = [\n",
    "                ic.text.strip() for ic in site_elem.findall(\"information-category\") if ic.text\n",
    "            ]\n",
    "\n",
    "            # Check for <organization>\n",
    "            org_elem = site_elem.find(\"organization\")\n",
    "            org_text = org_elem.text.strip() if org_elem is not None and org_elem.text else \"\"\n",
    "\n",
    "            # Condition:\n",
    "            #   a) Must have 'Patient Handouts' and 'Encyclopedia' among info_categories\n",
    "            #   b) Must have <organization> == 'Medical Encyclopedia'\n",
    "            #   c) Already matched the site title above\n",
    "            if (\"Patient Handouts\" in info_categories and\n",
    "                \"Encyclopedia\" in info_categories and\n",
    "                org_text == \"Medical Encyclopedia\"):\n",
    "\n",
    "                # This site matches the desired criteria\n",
    "                site_url = site_elem.get(\"url\", \"\").strip()\n",
    "                lmapped_url = site_elem.get(\"language-mapped-url\", \"\").strip()\n",
    "\n",
    "                all_matching_sites.append({\n",
    "                    \"title\": current_site_title,\n",
    "                    \"url\": site_url,\n",
    "                    \"language_mapped_url\": lmapped_url,\n",
    "                    \"information_categories\": info_categories,\n",
    "                    \"organization\": org_text\n",
    "                })\n",
    "\n",
    "    # Sort results by title (case-insensitive)\n",
    "    all_matching_sites.sort(key=lambda s: s[\"title\"].lower())\n",
    "\n",
    "    return all_matching_sites"
   ]
  },
  {
   "cell_type": "code",
   "execution_count": null,
   "metadata": {},
   "outputs": [
    {
     "ename": "",
     "evalue": "",
     "output_type": "error",
     "traceback": [
      "\u001b[1;31mnotebook controller is DISPOSED. \n",
      "\u001b[1;31mView Jupyter <a href='command:jupyter.viewOutput'>log</a> for further details."
     ]
    },
    {
     "ename": "",
     "evalue": "",
     "output_type": "error",
     "traceback": [
      "\u001b[1;31mnotebook controller is DISPOSED. \n",
      "\u001b[1;31mView Jupyter <a href='command:jupyter.viewOutput'>log</a> for further details."
     ]
    }
   ],
   "source": [
    "def download_html(url, title_query, folder=\"html\"):\n",
    "    \"\"\"\n",
    "    Downloads the HTML from a given URL and saves it as a .html file\n",
    "    in the specified 'folder' (default: 'html').\n",
    "\n",
    "    Args:\n",
    "        url (str): The URL to fetch.\n",
    "        folder (str): The folder where the .html file will be saved.\n",
    "\n",
    "    Returns:\n",
    "        str: The full file path of the saved HTML file.\n",
    "    \"\"\"\n",
    "    # Create the folder if it doesn't exist\n",
    "    os.makedirs(folder, exist_ok=True)\n",
    "\n",
    "    # URL-encode the entire URL to make a valid filename, then append .html\n",
    "    #safe_filename = urllib.parse.quote_plus(url) + \".html\"\n",
    "    file_path = os.path.join(folder, title_query + \".html\")\n",
    "\n",
    "    # Send the GET request\n",
    "    response = requests.get(url)\n",
    "    response.raise_for_status()  # Raise an error if request failed\n",
    "\n",
    "    # Write the response text (HTML content) to a file\n",
    "    with open(file_path, \"w\", encoding=\"utf-8\") as f:\n",
    "        f.write(response.text)\n",
    "\n",
    "    return file_path"
   ]
  },
  {
   "cell_type": "code",
   "execution_count": null,
   "metadata": {},
   "outputs": [
    {
     "ename": "",
     "evalue": "",
     "output_type": "error",
     "traceback": [
      "\u001b[1;31mnotebook controller is DISPOSED. \n",
      "\u001b[1;31mView Jupyter <a href='command:jupyter.viewOutput'>log</a> for further details."
     ]
    },
    {
     "ename": "",
     "evalue": "",
     "output_type": "error",
     "traceback": [
      "\u001b[1;31mnotebook controller is DISPOSED. \n",
      "\u001b[1;31mView Jupyter <a href='command:jupyter.viewOutput'>log</a> for further details."
     ]
    }
   ],
   "source": [
    "\n",
    "def extract_symptoms_bullets(html_text):\n",
    "    \"\"\"\n",
    "    Given an HTML string of a MedlinePlus page (or similar),\n",
    "    find the section whose <h2> text == 'Symptoms' and\n",
    "    return all the bullet-point text <li> from that section.\n",
    "\n",
    "    Returns:\n",
    "        A list of strings, where each string is the text of a bullet point.\n",
    "    \"\"\"\n",
    "\n",
    "    soup = BeautifulSoup(html_text, \"html.parser\")\n",
    "    \n",
    "    # 1. Find the section that has <h2>Symptoms</h2>\n",
    "    #    Each <section> typically has structure:\n",
    "    #    <section><div class=\"section\"><div class=\"section-header\">...\n",
    "    #    We'll locate the <h2> with text \"Symptoms\" (case-insensitive match).\n",
    "    \n",
    "    # Approach: Look for an <h2> whose .text == \"Symptoms\" (stripping/case-insensitive).\n",
    "    target_section = None\n",
    "    all_h2 = soup.find_all(\"h2\")\n",
    "    for h2_tag in all_h2:\n",
    "        if h2_tag.get_text(strip=True).lower() == \"symptoms\":\n",
    "            # The <h2> is inside <div class=\"section-title\">, which is inside <div class=\"section\">\n",
    "            # We'll go up to the nearest <section> or parent that encloses this heading\n",
    "            # In the snippet, it's two levels up <section><div class=\"section\"><div class=\"section-title\"><h2>Symptoms</h2></div>\n",
    "            # but let's be flexible in case of slight structure changes.\n",
    "            # We'll climb up to the <section> ancestor:\n",
    "            parent_section = h2_tag.find_parent(\"section\")\n",
    "            if parent_section:\n",
    "                target_section = parent_section\n",
    "                break\n",
    "\n",
    "    if not target_section:\n",
    "        return []  # No \"Symptoms\" section found\n",
    "    \n",
    "    # 2. Within that section, find all <li> elements\n",
    "    #    We'll gather text from each bullet.\n",
    "    bullet_points = []\n",
    "    for li_tag in target_section.find_all(\"li\"):\n",
    "        text = li_tag.get_text(\" \", strip=True)\n",
    "        bullet_points.append(text)\n",
    "    \n",
    "    return bullet_points"
   ]
  },
  {
   "cell_type": "code",
   "execution_count": null,
   "metadata": {},
   "outputs": [
    {
     "name": "stdout",
     "output_type": "stream",
     "text": [
      "Found 1 matching site(s) with title='Diabetes':\n",
      "\n",
      "- Title: Diabetes\n",
      "  URL: https://medlineplus.gov/ency/article/001214.htm\n",
      "  Language-Mapped URL: https://medlineplus.gov/spanish/ency/article/001214.htm\n",
      "  Categories: ['Patient Handouts', 'Encyclopedia']\n",
      "  Organization: Medical Encyclopedia\n",
      "--------------------------------------------------\n"
     ]
    },
    {
     "ename": "",
     "evalue": "",
     "output_type": "error",
     "traceback": [
      "\u001b[1;31mnotebook controller is DISPOSED. \n",
      "\u001b[1;31mView Jupyter <a href='command:jupyter.viewOutput'>log</a> for further details."
     ]
    },
    {
     "ename": "",
     "evalue": "",
     "output_type": "error",
     "traceback": [
      "\u001b[1;31mnotebook controller is DISPOSED. \n",
      "\u001b[1;31mView Jupyter <a href='command:jupyter.viewOutput'>log</a> for further details."
     ]
    },
    {
     "ename": "",
     "evalue": "",
     "output_type": "error",
     "traceback": [
      "\u001b[1;31mnotebook controller is DISPOSED. \n",
      "\u001b[1;31mView Jupyter <a href='command:jupyter.viewOutput'>log</a> for further details."
     ]
    },
    {
     "ename": "",
     "evalue": "",
     "output_type": "error",
     "traceback": [
      "\u001b[1;31mnotebook controller is DISPOSED. \n",
      "\u001b[1;31mView Jupyter <a href='command:jupyter.viewOutput'>log</a> for further details."
     ]
    }
   ],
   "source": [
    "title_query = \"Diabetes\"\n",
    "matching_sites = filter_sites_by_title(title_query)\n",
    "\n",
    "# Print the results\n",
    "if matching_sites:\n",
    "    print(f\"Found {len(matching_sites)} matching site(s) with title='{title_query}':\\n\")\n",
    "    for site in matching_sites:\n",
    "        download_html(site[\"url\"],title_query)\n",
    "        print(f\"- Title: {site['title']}\")\n",
    "        print(f\"  URL: {site['url']}\")\n",
    "        print(f\"  Language-Mapped URL: {site['language_mapped_url']}\")\n",
    "        print(f\"  Categories: {site['information_categories']}\")\n",
    "        print(f\"  Organization: {site['organization']}\")\n",
    "        print(\"--------------------------------------------------\")\n",
    "else:\n",
    "    print(f\"No <site> elements found with title='{title_query}' matching the criteria.\")"
   ]
  },
  {
   "cell_type": "code",
   "execution_count": null,
   "metadata": {},
   "outputs": [
    {
     "name": "stdout",
     "output_type": "stream",
     "text": [
      "Extracted bullet points from the 'Symptoms' section in html/Diabetes.html:\n",
      "- Blurry vision\n",
      "- Excess thirst\n",
      "- Fatigue\n",
      "- Frequent urination\n",
      "- Hunger\n",
      "- Weight loss\n",
      "- Eye problems , including trouble seeing (especially at night), light sensitivity, cataracts, and blindness\n",
      "- Sores and infections of the leg or foot, which if untreated, can lead to amputation of the leg or foot\n",
      "- Damage to nerves in the body , causing pain, tingling, a loss of feeling, problems digesting food, and erectile dysfunction\n",
      "- Kidney problems , which can lead to kidney failure\n",
      "- Weakened immune system, which can lead to more frequent infections\n",
      "- Increased chance of having a heart attack or stroke\n",
      "--------------------------------------------------\n"
     ]
    },
    {
     "ename": "",
     "evalue": "",
     "output_type": "error",
     "traceback": [
      "\u001b[1;31mnotebook controller is DISPOSED. \n",
      "\u001b[1;31mView Jupyter <a href='command:jupyter.viewOutput'>log</a> for further details."
     ]
    },
    {
     "ename": "",
     "evalue": "",
     "output_type": "error",
     "traceback": [
      "\u001b[1;31mnotebook controller is DISPOSED. \n",
      "\u001b[1;31mView Jupyter <a href='command:jupyter.viewOutput'>log</a> for further details."
     ]
    },
    {
     "ename": "",
     "evalue": "",
     "output_type": "error",
     "traceback": [
      "\u001b[1;31mnotebook controller is DISPOSED. \n",
      "\u001b[1;31mView Jupyter <a href='command:jupyter.viewOutput'>log</a> for further details."
     ]
    },
    {
     "ename": "",
     "evalue": "",
     "output_type": "error",
     "traceback": [
      "\u001b[1;31mnotebook controller is DISPOSED. \n",
      "\u001b[1;31mView Jupyter <a href='command:jupyter.viewOutput'>log</a> for further details."
     ]
    }
   ],
   "source": [
    "import glob\n",
    "\n",
    "# Iterate through all HTML files in the 'html' folder\n",
    "for html_file in glob.glob(\"html/*.html\"):\n",
    "    with open(html_file, \"r\", encoding=\"utf-8\") as file:\n",
    "        html_content = file.read()\n",
    "    # Call our function\n",
    "    symptoms_list = extract_symptoms_bullets(html_content)\n",
    "\n",
    "    print(f\"Extracted bullet points from the 'Symptoms' section in {html_file}:\")\n",
    "    for bp in symptoms_list:\n",
    "        print(\"-\", bp)\n",
    "    print(\"--------------------------------------------------\")\n"
   ]
  }
 ],
 "metadata": {
  "kernelspec": {
   "display_name": ".venv",
   "language": "python",
   "name": "python3"
  },
  "language_info": {
   "codemirror_mode": {
    "name": "ipython",
    "version": 3
   },
   "file_extension": ".py",
   "mimetype": "text/x-python",
   "name": "python",
   "nbconvert_exporter": "python",
   "pygments_lexer": "ipython3",
   "version": "3.10.2"
  }
 },
 "nbformat": 4,
 "nbformat_minor": 2
}
